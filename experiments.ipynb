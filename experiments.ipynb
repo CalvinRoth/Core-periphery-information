{
 "cells": [
  {
   "cell_type": "code",
   "execution_count": 16,
   "metadata": {},
   "outputs": [],
   "source": [
    "import networkx as nx\n",
    "import numpy as np\n",
    "import numpy.linalg as lin\n",
    "from __future__ import annotations\n",
    "import matplotlib.pyplot as plt"
   ]
  },
  {
   "cell_type": "code",
   "execution_count": 80,
   "metadata": {},
   "outputs": [],
   "source": [
    "a = 6\n",
    "c = 4\n",
    "rho = 0.95"
   ]
  },
  {
   "cell_type": "code",
   "execution_count": 81,
   "metadata": {},
   "outputs": [],
   "source": [
    "def make_core_periphy(core_size, branching_factor):\n",
    "    n = core_size * (1 + branching_factor)\n",
    "    mat = np.zeros((n,n))\n",
    "    for i in range(core_size):\n",
    "        for j in range(core_size):\n",
    "            if(i == j): continue\n",
    "            mat[i,j] = 1\n",
    "    for i in range(core_size, n):\n",
    "        parent = (i - core_size) // branching_factor \n",
    "        mat[parent, i] = 1\n",
    "    return mat\n",
    "\n",
    "def specNorm(A: np.matrix) -> float:\n",
    "    return lin.norm(A, ord=2)\n",
    "    \n",
    "def centralty(A: np.matrix, rho: float, alpha) -> np.matrix:\n",
    "    \"\"\"\n",
    "\n",
    "    Parameters\n",
    "    ----------\n",
    "    A : np matrix\n",
    "    rho : network effect\n",
    "\n",
    "    Returns\n",
    "    -------\n",
    "    Centrality vector as described in paper\n",
    "    \"\"\"\n",
    "    n = A.shape[0]\n",
    "    ident = np.eye(n, n)\n",
    "    ones = np.ones((n, 1))\n",
    "    ApA = A + A.T\n",
    "    eig = specNorm(ApA)\n",
    "    alpha = rho / eig\n",
    "    central = lin.inv(ident - (alpha * ApA))\n",
    "    central = central @ ones  # Checked.  this > 0\n",
    "    return central\n",
    "\n",
    "def priceVector(A: np.matrix, rho: float, a: int | float, c: int | float,k = None) -> np.matrix:\n",
    "    \"\"\"\n",
    "    Parameters\n",
    "    ----------\n",
    "    A : Network\n",
    "    rho : network strength\n",
    "    a : stand alone util\n",
    "    c : marginal cost. Should be less than a\n",
    "\n",
    "    Returns\n",
    "    -------\n",
    "    Vector reprsenting what price to charge individual i\n",
    "    \"\"\"\n",
    "    n = A.shape[0]\n",
    "    ones = np.ones((n, 1))\n",
    "    spec = specNorm(A + A.T)\n",
    "    alpha = rho / spec\n",
    "    central = centralty(A, rho, alpha)  # This should be A not A + A.T because of how centralty function is designed\n",
    "    dif = A - A.T\n",
    "    pv1 = ((a + c) / 2) * ones\n",
    "    pv2 = ((a - c) * alpha * 0.5) * (dif @ central)\n",
    "    return pv1 + pv2\n",
    "\n",
    "def uniformPrice(a, c, n) :\n",
    "    return (a + c) / 2 * np.ones((n, 1))\n",
    "\n",
    "def consumption(A: np.matrix, rho: float, a: int | float, c: int | float, k = None) -> np.matrix:\n",
    "    \"\"\"\n",
    "    Parameters\n",
    "    ----------\n",
    "    A : Network\n",
    "    rho : network strength\n",
    "    a : stand alone util\n",
    "    c : marginal cost. Should be less than a\n",
    "\n",
    "    Returns\n",
    "    -------\n",
    "    Vector reprsenting what price to charge individual i\n",
    "    \"\"\"\n",
    "    n = A.shape[0]\n",
    "    ones = np.ones((n, 1))\n",
    "    spec = specNorm(A + A.T)\n",
    "    alpha = rho / spec\n",
    "    central = centralty(A, rho, alpha)  # This should be A not A + A.T because of how centralty function is designed\n",
    "    dif = A - A.T\n",
    "    pv1 = ((a + c) / 2) * ones\n",
    "    pv2 = ((a - c) * alpha * 0.5) * (dif @ central)\n",
    "    return pv1 + pv2\n",
    "\n",
    "\n",
    "def profit(p, c, cons : np.matrix) -> float:\n",
    "    \"\"\"\n",
    "    Parameters\n",
    "    ----------\n",
    "    p : price vector\n",
    "    c : consumption vector\n",
    "    cons : consumption vector\n",
    "\n",
    "    Returns\n",
    "    -------\n",
    "    Profit vector\n",
    "    \"\"\"\n",
    "    n = (p.shape[0],1)\n",
    "    res = (p - c * np.ones(n)).T @ cons\n",
    "    return res[0,0]"
   ]
  },
  {
   "cell_type": "markdown",
   "metadata": {},
   "source": [
    "a = 5\n",
    "c = 4"
   ]
  },
  {
   "cell_type": "code",
   "execution_count": 82,
   "metadata": {},
   "outputs": [],
   "source": [
    "n = 6\n",
    "stop = 5\n",
    "knownProfits = []\n",
    "uniformProfits = []\n",
    "x = [i for i in range(1,stop)]\n",
    "for i in range(1,stop):\n",
    "    total_size = n * (1 + i)\n",
    "    # profit if we know degrees \n",
    "    m = make_core_periphy(n, i)\n",
    "    known_p = priceVector(m, a, c, rho)\n",
    "    known_cons = consumption(m, a, c, rho)\n",
    "    known_profit = profit(known_p, c, known_cons)\n",
    "    knownProfits.append(known_profit)\n",
    "    # profit if we have uniform prices \n",
    "    uniV = uniformPrice(a, c, total_size)\n",
    "    uniform_cons = consumption(m, a, c, rho, uniV)\n",
    "    uniform_profit = profit(uniV, c, uniform_cons)\n",
    "    uniformProfits.append(uniform_profit)\n",
    "\n",
    "    "
   ]
  },
  {
   "cell_type": "code",
   "execution_count": 83,
   "metadata": {},
   "outputs": [
    {
     "data": {
      "text/plain": [
       "[35.800553843529634, 57.0486283998991, 78.53956743038229, 100.23192779620258]"
      ]
     },
     "execution_count": 83,
     "metadata": {},
     "output_type": "execute_result"
    }
   ],
   "source": [
    "uniformProfits[:10]"
   ]
  },
  {
   "cell_type": "code",
   "execution_count": 84,
   "metadata": {},
   "outputs": [
    {
     "data": {
      "image/png": "[encoded data removed]",
      "text/plain": [
       "<Figure size 432x288 with 1 Axes>"
      ]
     },
     "metadata": {
      "needs_background": "light"
     },
     "output_type": "display_data"
    }
   ],
   "source": [
    "plt.plot(x, knownProfits, label = \"Known\")\n",
    "plt.plot(x, uniformProfits, label = \"Uniform\")\n",
    "plt.legend()\n",
    "plt.show()"
   ]
  },
  {
   "cell_type": "code",
   "execution_count": 9,
   "metadata": {},
   "outputs": [
    {
     "data": {
      "text/plain": [
       "70"
      ]
     },
     "execution_count": 9,
     "metadata": {},
     "output_type": "execute_result"
    }
   ],
   "source": [
    "np.argmax(ratios)"
   ]
  },
  {
   "cell_type": "code",
   "execution_count": null,
   "metadata": {},
   "outputs": [],
   "source": []
  }
 ],
 "metadata": {
  "interpreter": {
   "hash": "f8bf12b52825272ca753cd984c5229bfdc42f0a289f2d02e86b988d3513b4f71"
  },
  "kernelspec": {
   "display_name": "Python 3.8.10 64-bit ('pDL': conda)",
   "name": "python3"
  },
  "language_info": {
   "codemirror_mode": {
    "name": "ipython",
    "version": 3
   },
   "file_extension": ".py",
   "mimetype": "text/x-python",
   "name": "python",
   "nbconvert_exporter": "python",
   "pygments_lexer": "ipython3",
   "version": "3.8.10"
  },
  "orig_nbformat": 4
 },
 "nbformat": 4,
 "nbformat_minor": 2
}
