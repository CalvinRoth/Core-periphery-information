{
 "cells": [
  {
   "cell_type": "markdown",
   "metadata": {},
   "source": [
    "# Setup \n",
    "\n",
    "## Imports"
   ]
  },
  {
   "cell_type": "code",
   "execution_count": 299,
   "metadata": {},
   "outputs": [],
   "source": [
    "import networkx as nx\n",
    "import numpy as np\n",
    "import numpy.linalg as lin\n",
    "from __future__ import annotations\n",
    "import matplotlib.pyplot as plt\n",
    "from  rational import RationalF as Ratio"
   ]
  },
  {
   "cell_type": "code",
   "execution_count": 300,
   "metadata": {},
   "outputs": [],
   "source": [
    "def make_core_periphy(core_size, branching_factor):\n",
    "    n = core_size * (1 + branching_factor)\n",
    "    mat = np.zeros((n,n))\n",
    "    for i in range(core_size):\n",
    "        for j in range(core_size):\n",
    "            if(i == j): continue\n",
    "            mat[i,j] = 1\n",
    "    for i in range(core_size, n):\n",
    "        parent = (i - core_size) // branching_factor \n",
    "        mat[parent, i] = 1\n",
    "    return mat\n",
    "\n",
    "    return mat\n",
    "def specNorm(A: np.matrix) -> float:\n",
    "    return lin.norm(A, ord=2)\n",
    "\n",
    "\n",
    "def guessF(k, l):\n",
    "    return Ratio([1, k], [1, -2*(l-1), -k] )\n",
    "\n",
    "def guessG(k,l):\n",
    "    return Ratio([1, 3 - 2*l], [1, -2*(l-1), -k])\n",
    "\n",
    "def guessCons(a, c, k, rho, l, vc, vp): \n",
    "    t1 = 1 + 2*k*rho \n",
    "    t2 = vc + 2*k*rho*vp\n",
    "    t2 = rho * t2\n",
    "    b = 1 - 2*(l-1)*rho\n",
    "    res = t1 - t2 \n",
    "    res = res / b \n",
    "    return ( (a-c)/2) * res "
   ]
  },
  {
   "cell_type": "markdown",
   "metadata": {},
   "source": [
    "a = 5\n",
    "c = 4"
   ]
  },
  {
   "cell_type": "code",
   "execution_count": 301,
   "metadata": {},
   "outputs": [],
   "source": [
    "a = 4\n",
    "c = 2\n",
    "k = 25\n",
    "l = 30\n",
    "m = make_core_periphy(l, k)\n",
    "n = len(m)\n",
    "rho = 0.9 / specNorm(m + m.T)\n"
   ]
  },
  {
   "cell_type": "markdown",
   "metadata": {},
   "source": [
    "# Check for sum of walks"
   ]
  },
  {
   "cell_type": "code",
   "execution_count": 302,
   "metadata": {},
   "outputs": [
    {
     "name": "stdout",
     "output_type": "stream",
     "text": [
      "[-4.61852778e-14] [-1.99840144e-15]\n"
     ]
    }
   ],
   "source": [
    "def centralty(A: np.matrix, rho: float) -> np.matrix:\n",
    "    \"\"\"\n",
    "\n",
    "    Parameters\n",
    "    ----------\n",
    "    A : np matrix\n",
    "    rho : network effect\n",
    "\n",
    "    Returns\n",
    "    -------\n",
    "    Centrality vector as described in paper\n",
    "    \"\"\"\n",
    "    n = A.shape[0]\n",
    "    ident = np.eye(n, n)\n",
    "    ones = np.ones((n, 1))\n",
    "    ApA = A + A.T\n",
    "    central = lin.inv(ident - (rho * ApA))\n",
    "    central = central @ ones  \n",
    "    return central\n",
    "factor  = rho \n",
    "f = guessF(k,l)\n",
    "g = guessG(k,l)\n",
    "f_val = f.eval(factor)\n",
    "g_val = g.eval(factor)\n",
    "central = centralty(m, rho)\n",
    "actual_core = central[0]\n",
    "actual_per = central[-1]\n",
    "print(f_val - actual_core, g_val - actual_per)"
   ]
  },
  {
   "cell_type": "markdown",
   "metadata": {},
   "source": [
    "# Scaled walks\n",
    "We want $\\frac{a-c}{2}\\rho * (G - G^T) v $ not just v"
   ]
  },
  {
   "cell_type": "code",
   "execution_count": 303,
   "metadata": {},
   "outputs": [
    {
     "name": "stdout",
     "output_type": "stream",
     "text": [
      "-6.328271240363392e-15 -8.881784197001252e-16\n"
     ]
    }
   ],
   "source": [
    "fraction = ((a-c)/2) * rho\n",
    "graph_part =  fraction * (m - m.T) @ central \n",
    "graph_core =  graph_part[0,0]\n",
    "graph_per = graph_part[-1,0]\n",
    "guess_core = fraction * k * g_val \n",
    "guess_per = - fraction * f_val \n",
    "print(graph_core - guess_core, graph_per - guess_per)"
   ]
  },
  {
   "cell_type": "markdown",
   "metadata": {},
   "source": [
    "# Full Price vectors"
   ]
  },
  {
   "cell_type": "code",
   "execution_count": 304,
   "metadata": {},
   "outputs": [
    {
     "name": "stdout",
     "output_type": "stream",
     "text": [
      "-6.217248937900877e-15 -8.881784197001252e-16\n"
     ]
    }
   ],
   "source": [
    "def price_vector(a, c, rho, G):\n",
    "    n = len(G)\n",
    "    frac1 = (a+c)/2\n",
    "    frac2 = rho * ( (a-c)/2)\n",
    "    return (frac1 * np.ones((n,1))) + (frac2 * (G - G.T) @ centralty(G, rho))\n",
    " \n",
    "\n",
    "price = price_vector(a, c, rho, m)\n",
    "price_core = price[0,0]\n",
    "price_per = price[-1,0]\n",
    "pguess_core = ((a+c)/2) + guess_core \n",
    "pguess_per = ((a+c)/2) + guess_per \n",
    "print(price_core - pguess_core, price_per - pguess_per)\n"
   ]
  },
  {
   "cell_type": "markdown",
   "metadata": {},
   "source": [
    "# Consumption \n",
    "\n"
   ]
  },
  {
   "cell_type": "code",
   "execution_count": 305,
   "metadata": {},
   "outputs": [
    {
     "name": "stdout",
     "output_type": "stream",
     "text": [
      "6.483702463810914e-14 5.551115123125783e-16\n"
     ]
    }
   ],
   "source": [
    "def consumption(n, rho, a, c, G):\n",
    "    p = price_vector(a, c, rho, G)\n",
    "    v = a * np.ones((n,1))\n",
    "    v = v - p \n",
    "    mat = lin.inv(np.eye(n,n) - 2 * rho * G  )\n",
    "    return 0.5 * mat @ v \n",
    "\n",
    "consu = consumption(n, rho, a, c, m)\n",
    "consu_core = consu[0,0]\n",
    "consu_per = consu[-1,0]\n",
    "\n",
    "vc = k * g_val \n",
    "vp = - f_val \n",
    "guess_consu = (1 + 2*k*rho)/(1- 2*(l-1)*rho)\n",
    "guess_consu2 = rho * (vc +  2*k*rho*vp)/(1 - 2*(l-1)*rho)\n",
    "guess_consu_core = ((a-c)/4) * (guess_consu - guess_consu2)\n",
    "guess_consu_per = ((a-c)/4) * ( 1 + rho*f_val)\n",
    "print(consu_core - guess_consu_core , consu_per - guess_consu_per)\n",
    "\n"
   ]
  },
  {
   "cell_type": "markdown",
   "metadata": {},
   "source": [
    "# Profits"
   ]
  },
  {
   "cell_type": "markdown",
   "metadata": {},
   "source": [
    "## Profit from each core and each peripheral node"
   ]
  },
  {
   "cell_type": "code",
   "execution_count": 306,
   "metadata": {},
   "outputs": [
    {
     "name": "stdout",
     "output_type": "stream",
     "text": [
      "2.220446049250313e-16\n",
      "5.1514348342607263e-14\n"
     ]
    }
   ],
   "source": [
    "profit_core = (price_core - c) * consu_core\n",
    "profit_per = (price_per - c) * consu_per\n",
    "profit_per_guess = ((a-c)*(a-c)/8) * (1- (rho * f_val)**2)\n",
    "vc = k * g_val \n",
    "vp = - f_val \n",
    "guess_x = (1 + 2*k*rho + 2*k*rho*rho*f_val - rho*k*g_val)/(1 - 2*(l-1)*rho)\n",
    "profit_core_guess = ((a-c)**2/8) * ( 1 + rho*k*g_val ) * guess_x\n",
    "print(profit_per_guess - profit_per)\n",
    "print(profit_core -profit_core_guess)\n"
   ]
  },
  {
   "cell_type": "code",
   "execution_count": 307,
   "metadata": {},
   "outputs": [
    {
     "name": "stdout",
     "output_type": "stream",
     "text": [
      "[[660.88696471]]\n"
     ]
    },
    {
     "data": {
      "text/plain": [
       "660.8869647055967"
      ]
     },
     "execution_count": 307,
     "metadata": {},
     "output_type": "execute_result"
    }
   ],
   "source": [
    "# Total profit \n",
    "guess_profit = l * profit_core_guess + k*l * profit_per_guess\n",
    "print ((price - c*np.ones((n,1))).T @ consu)\n",
    "guess_profit"
   ]
  },
  {
   "cell_type": "markdown",
   "metadata": {},
   "source": [
    "# Effects of l and k"
   ]
  },
  {
   "cell_type": "markdown",
   "metadata": {},
   "source": [
    "## Full scripts for profits"
   ]
  },
  {
   "cell_type": "code",
   "execution_count": 348,
   "metadata": {},
   "outputs": [
    {
     "data": {
      "text/plain": [
       "0.26867262141808557"
      ]
     },
     "execution_count": 348,
     "metadata": {},
     "output_type": "execute_result"
    }
   ],
   "source": [
    "def actualProfit(a,c, rho, k,l):\n",
    "    m = make_core_periphy(l, k)\n",
    "    n = len(m)\n",
    "    rho = 0.9 / specNorm(m + m.T)\n",
    "    central = centralty(m, rho)\n",
    "    fraction = ((a-c)/2) * rho\n",
    "    price = price_vector(a, c, rho, m)\n",
    "    consu = consumption(n, rho, a, c, m)\n",
    "    profit = (price - c*np.ones((n,1))).T @ consu\n",
    "    return profit[0,0]/n \n",
    "\n",
    "actualProfit(a,c,rho,k,l)"
   ]
  },
  {
   "cell_type": "markdown",
   "metadata": {},
   "source": [
    "## Varying l\n"
   ]
  },
  {
   "cell_type": "code",
   "execution_count": 349,
   "metadata": {},
   "outputs": [
    {
     "name": "stdout",
     "output_type": "stream",
     "text": [
      "1\n",
      "36\n",
      "72\n",
      "107\n",
      "143\n",
      "179\n",
      "214\n",
      "250\n",
      "286\n",
      "321\n",
      "357\n",
      "393\n",
      "428\n",
      "464\n",
      "500\n"
     ]
    }
   ],
   "source": [
    "l_min = 1 \n",
    "l_max = 500\n",
    "k = 10 \n",
    "steps = 15\n",
    "space = np.linspace(l_min, l_max, steps, dtype=int)\n",
    "profits = []\n",
    "for i in space:\n",
    "    print(i)\n",
    "    profits.append(actualProfit(a,c,rho,k,i))"
   ]
  },
  {
   "cell_type": "code",
   "execution_count": null,
   "metadata": {},
   "outputs": [
    {
     "data": {
      "text/plain": [
       "[<matplotlib.lines.Line2D at 0x1fb052859f0>]"
      ]
     },
     "execution_count": 24,
     "metadata": {},
     "output_type": "execute_result"
    },
    {
     "data": {
      "image/png": "[encoded data removed]",
      "text/plain": [
       "<Figure size 432x288 with 1 Axes>"
      ]
     },
     "metadata": {
      "needs_background": "light"
     },
     "output_type": "display_data"
    }
   ],
   "source": [
    "plt.plot(space, profits)"
   ]
  },
  {
   "cell_type": "code",
   "execution_count": null,
   "metadata": {},
   "outputs": [
    {
     "name": "stdout",
     "output_type": "stream",
     "text": [
      "1\n",
      "11\n",
      "22\n",
      "32\n",
      "43\n",
      "54\n",
      "64\n",
      "75\n",
      "86\n"
     ]
    },
    {
     "ename": "KeyboardInterrupt",
     "evalue": "",
     "output_type": "error",
     "traceback": [
      "\u001b[1;31m---------------------------------------------------------------------------\u001b[0m",
      "\u001b[1;31mKeyboardInterrupt\u001b[0m                         Traceback (most recent call last)",
      "\u001b[1;32mc:\\Users\\rothj\\OneDrive\\Documents\\GitHub\\Core-periphery-information\\experiments.ipynb Cell 24'\u001b[0m in \u001b[0;36m<cell line: 7>\u001b[1;34m()\u001b[0m\n\u001b[0;32m      <a href='vscode-notebook-cell:/c%3A/Users/rothj/OneDrive/Documents/GitHub/Core-periphery-information/experiments.ipynb#ch0000028?line=6'>7</a>\u001b[0m \u001b[39mfor\u001b[39;00m i \u001b[39min\u001b[39;00m space:\n\u001b[0;32m      <a href='vscode-notebook-cell:/c%3A/Users/rothj/OneDrive/Documents/GitHub/Core-periphery-information/experiments.ipynb#ch0000028?line=7'>8</a>\u001b[0m     \u001b[39mprint\u001b[39m(i)\n\u001b[1;32m----> <a href='vscode-notebook-cell:/c%3A/Users/rothj/OneDrive/Documents/GitHub/Core-periphery-information/experiments.ipynb#ch0000028?line=8'>9</a>\u001b[0m     profits_l\u001b[39m.\u001b[39mappend(actualProfit(a,c,rho,i,l))\n",
      "\u001b[1;32mc:\\Users\\rothj\\OneDrive\\Documents\\GitHub\\Core-periphery-information\\experiments.ipynb Cell 20'\u001b[0m in \u001b[0;36mactualProfit\u001b[1;34m(a, c, rho, k, l)\u001b[0m\n\u001b[0;32m      <a href='vscode-notebook-cell:/c%3A/Users/rothj/OneDrive/Documents/GitHub/Core-periphery-information/experiments.ipynb#ch0000023?line=1'>2</a>\u001b[0m m \u001b[39m=\u001b[39m make_core_periphy(l, k)\n\u001b[0;32m      <a href='vscode-notebook-cell:/c%3A/Users/rothj/OneDrive/Documents/GitHub/Core-periphery-information/experiments.ipynb#ch0000023?line=2'>3</a>\u001b[0m n \u001b[39m=\u001b[39m \u001b[39mlen\u001b[39m(m)\n\u001b[1;32m----> <a href='vscode-notebook-cell:/c%3A/Users/rothj/OneDrive/Documents/GitHub/Core-periphery-information/experiments.ipynb#ch0000023?line=3'>4</a>\u001b[0m rho \u001b[39m=\u001b[39m \u001b[39m0.9\u001b[39m \u001b[39m/\u001b[39m specNorm(m \u001b[39m+\u001b[39;49m m\u001b[39m.\u001b[39;49mT)\n\u001b[0;32m      <a href='vscode-notebook-cell:/c%3A/Users/rothj/OneDrive/Documents/GitHub/Core-periphery-information/experiments.ipynb#ch0000023?line=4'>5</a>\u001b[0m central \u001b[39m=\u001b[39m centralty(m, rho)\n\u001b[0;32m      <a href='vscode-notebook-cell:/c%3A/Users/rothj/OneDrive/Documents/GitHub/Core-periphery-information/experiments.ipynb#ch0000023?line=5'>6</a>\u001b[0m fraction \u001b[39m=\u001b[39m ((a\u001b[39m-\u001b[39mc)\u001b[39m/\u001b[39m\u001b[39m2\u001b[39m) \u001b[39m*\u001b[39m rho\n",
      "\u001b[1;32mc:\\Users\\rothj\\OneDrive\\Documents\\GitHub\\Core-periphery-information\\experiments.ipynb Cell 3'\u001b[0m in \u001b[0;36mspecNorm\u001b[1;34m(A)\u001b[0m\n\u001b[0;32m     <a href='vscode-notebook-cell:/c%3A/Users/rothj/OneDrive/Documents/GitHub/Core-periphery-information/experiments.ipynb#ch0000002?line=13'>14</a>\u001b[0m \u001b[39mdef\u001b[39;00m \u001b[39mspecNorm\u001b[39m(A: np\u001b[39m.\u001b[39mmatrix) \u001b[39m-\u001b[39m\u001b[39m>\u001b[39m \u001b[39mfloat\u001b[39m:\n\u001b[1;32m---> <a href='vscode-notebook-cell:/c%3A/Users/rothj/OneDrive/Documents/GitHub/Core-periphery-information/experiments.ipynb#ch0000002?line=14'>15</a>\u001b[0m     \u001b[39mreturn\u001b[39;00m lin\u001b[39m.\u001b[39;49mnorm(A, \u001b[39mord\u001b[39;49m\u001b[39m=\u001b[39;49m\u001b[39m2\u001b[39;49m)\n",
      "File \u001b[1;32m<__array_function__ internals>:180\u001b[0m, in \u001b[0;36mnorm\u001b[1;34m(*args, **kwargs)\u001b[0m\n",
      "File \u001b[1;32m~\\AppData\\Local\\Packages\\PythonSoftwareFoundation.Python.3.10_qbz5n2kfra8p0\\LocalCache\\local-packages\\Python310\\site-packages\\numpy\\linalg\\linalg.py:2565\u001b[0m, in \u001b[0;36mnorm\u001b[1;34m(x, ord, axis, keepdims)\u001b[0m\n\u001b[0;32m   <a href='file:///c%3A/Users/rothj/AppData/Local/Packages/PythonSoftwareFoundation.Python.3.10_qbz5n2kfra8p0/LocalCache/local-packages/Python310/site-packages/numpy/linalg/linalg.py?line=2562'>2563</a>\u001b[0m     \u001b[39mraise\u001b[39;00m \u001b[39mValueError\u001b[39;00m(\u001b[39m'\u001b[39m\u001b[39mDuplicate axes given.\u001b[39m\u001b[39m'\u001b[39m)\n\u001b[0;32m   <a href='file:///c%3A/Users/rothj/AppData/Local/Packages/PythonSoftwareFoundation.Python.3.10_qbz5n2kfra8p0/LocalCache/local-packages/Python310/site-packages/numpy/linalg/linalg.py?line=2563'>2564</a>\u001b[0m \u001b[39mif\u001b[39;00m \u001b[39mord\u001b[39m \u001b[39m==\u001b[39m \u001b[39m2\u001b[39m:\n\u001b[1;32m-> <a href='file:///c%3A/Users/rothj/AppData/Local/Packages/PythonSoftwareFoundation.Python.3.10_qbz5n2kfra8p0/LocalCache/local-packages/Python310/site-packages/numpy/linalg/linalg.py?line=2564'>2565</a>\u001b[0m     ret \u001b[39m=\u001b[39m  _multi_svd_norm(x, row_axis, col_axis, amax)\n\u001b[0;32m   <a href='file:///c%3A/Users/rothj/AppData/Local/Packages/PythonSoftwareFoundation.Python.3.10_qbz5n2kfra8p0/LocalCache/local-packages/Python310/site-packages/numpy/linalg/linalg.py?line=2565'>2566</a>\u001b[0m \u001b[39melif\u001b[39;00m \u001b[39mord\u001b[39m \u001b[39m==\u001b[39m \u001b[39m-\u001b[39m\u001b[39m2\u001b[39m:\n\u001b[0;32m   <a href='file:///c%3A/Users/rothj/AppData/Local/Packages/PythonSoftwareFoundation.Python.3.10_qbz5n2kfra8p0/LocalCache/local-packages/Python310/site-packages/numpy/linalg/linalg.py?line=2566'>2567</a>\u001b[0m     ret \u001b[39m=\u001b[39m _multi_svd_norm(x, row_axis, col_axis, amin)\n",
      "File \u001b[1;32m~\\AppData\\Local\\Packages\\PythonSoftwareFoundation.Python.3.10_qbz5n2kfra8p0\\LocalCache\\local-packages\\Python310\\site-packages\\numpy\\linalg\\linalg.py:2341\u001b[0m, in \u001b[0;36m_multi_svd_norm\u001b[1;34m(x, row_axis, col_axis, op)\u001b[0m\n\u001b[0;32m   <a href='file:///c%3A/Users/rothj/AppData/Local/Packages/PythonSoftwareFoundation.Python.3.10_qbz5n2kfra8p0/LocalCache/local-packages/Python310/site-packages/numpy/linalg/linalg.py?line=2317'>2318</a>\u001b[0m \u001b[39m\"\"\"Compute a function of the singular values of the 2-D matrices in `x`.\u001b[39;00m\n\u001b[0;32m   <a href='file:///c%3A/Users/rothj/AppData/Local/Packages/PythonSoftwareFoundation.Python.3.10_qbz5n2kfra8p0/LocalCache/local-packages/Python310/site-packages/numpy/linalg/linalg.py?line=2318'>2319</a>\u001b[0m \n\u001b[0;32m   <a href='file:///c%3A/Users/rothj/AppData/Local/Packages/PythonSoftwareFoundation.Python.3.10_qbz5n2kfra8p0/LocalCache/local-packages/Python310/site-packages/numpy/linalg/linalg.py?line=2319'>2320</a>\u001b[0m \u001b[39mThis is a private utility function used by `numpy.linalg.norm()`.\u001b[39;00m\n\u001b[1;32m   (...)\u001b[0m\n\u001b[0;32m   <a href='file:///c%3A/Users/rothj/AppData/Local/Packages/PythonSoftwareFoundation.Python.3.10_qbz5n2kfra8p0/LocalCache/local-packages/Python310/site-packages/numpy/linalg/linalg.py?line=2337'>2338</a>\u001b[0m \n\u001b[0;32m   <a href='file:///c%3A/Users/rothj/AppData/Local/Packages/PythonSoftwareFoundation.Python.3.10_qbz5n2kfra8p0/LocalCache/local-packages/Python310/site-packages/numpy/linalg/linalg.py?line=2338'>2339</a>\u001b[0m \u001b[39m\"\"\"\u001b[39;00m\n\u001b[0;32m   <a href='file:///c%3A/Users/rothj/AppData/Local/Packages/PythonSoftwareFoundation.Python.3.10_qbz5n2kfra8p0/LocalCache/local-packages/Python310/site-packages/numpy/linalg/linalg.py?line=2339'>2340</a>\u001b[0m y \u001b[39m=\u001b[39m moveaxis(x, (row_axis, col_axis), (\u001b[39m-\u001b[39m\u001b[39m2\u001b[39m, \u001b[39m-\u001b[39m\u001b[39m1\u001b[39m))\n\u001b[1;32m-> <a href='file:///c%3A/Users/rothj/AppData/Local/Packages/PythonSoftwareFoundation.Python.3.10_qbz5n2kfra8p0/LocalCache/local-packages/Python310/site-packages/numpy/linalg/linalg.py?line=2340'>2341</a>\u001b[0m result \u001b[39m=\u001b[39m op(svd(y, compute_uv\u001b[39m=\u001b[39;49m\u001b[39mFalse\u001b[39;49;00m), axis\u001b[39m=\u001b[39m\u001b[39m-\u001b[39m\u001b[39m1\u001b[39m)\n\u001b[0;32m   <a href='file:///c%3A/Users/rothj/AppData/Local/Packages/PythonSoftwareFoundation.Python.3.10_qbz5n2kfra8p0/LocalCache/local-packages/Python310/site-packages/numpy/linalg/linalg.py?line=2341'>2342</a>\u001b[0m \u001b[39mreturn\u001b[39;00m result\n",
      "File \u001b[1;32m<__array_function__ internals>:180\u001b[0m, in \u001b[0;36msvd\u001b[1;34m(*args, **kwargs)\u001b[0m\n",
      "File \u001b[1;32m~\\AppData\\Local\\Packages\\PythonSoftwareFoundation.Python.3.10_qbz5n2kfra8p0\\LocalCache\\local-packages\\Python310\\site-packages\\numpy\\linalg\\linalg.py:1660\u001b[0m, in \u001b[0;36msvd\u001b[1;34m(a, full_matrices, compute_uv, hermitian)\u001b[0m\n\u001b[0;32m   <a href='file:///c%3A/Users/rothj/AppData/Local/Packages/PythonSoftwareFoundation.Python.3.10_qbz5n2kfra8p0/LocalCache/local-packages/Python310/site-packages/numpy/linalg/linalg.py?line=1656'>1657</a>\u001b[0m     gufunc \u001b[39m=\u001b[39m _umath_linalg\u001b[39m.\u001b[39msvd_n\n\u001b[0;32m   <a href='file:///c%3A/Users/rothj/AppData/Local/Packages/PythonSoftwareFoundation.Python.3.10_qbz5n2kfra8p0/LocalCache/local-packages/Python310/site-packages/numpy/linalg/linalg.py?line=1658'>1659</a>\u001b[0m signature \u001b[39m=\u001b[39m \u001b[39m'\u001b[39m\u001b[39mD->d\u001b[39m\u001b[39m'\u001b[39m \u001b[39mif\u001b[39;00m isComplexType(t) \u001b[39melse\u001b[39;00m \u001b[39m'\u001b[39m\u001b[39md->d\u001b[39m\u001b[39m'\u001b[39m\n\u001b[1;32m-> <a href='file:///c%3A/Users/rothj/AppData/Local/Packages/PythonSoftwareFoundation.Python.3.10_qbz5n2kfra8p0/LocalCache/local-packages/Python310/site-packages/numpy/linalg/linalg.py?line=1659'>1660</a>\u001b[0m s \u001b[39m=\u001b[39m gufunc(a, signature\u001b[39m=\u001b[39;49msignature, extobj\u001b[39m=\u001b[39;49mextobj)\n\u001b[0;32m   <a href='file:///c%3A/Users/rothj/AppData/Local/Packages/PythonSoftwareFoundation.Python.3.10_qbz5n2kfra8p0/LocalCache/local-packages/Python310/site-packages/numpy/linalg/linalg.py?line=1660'>1661</a>\u001b[0m s \u001b[39m=\u001b[39m s\u001b[39m.\u001b[39mastype(_realType(result_t), copy\u001b[39m=\u001b[39m\u001b[39mFalse\u001b[39;00m)\n\u001b[0;32m   <a href='file:///c%3A/Users/rothj/AppData/Local/Packages/PythonSoftwareFoundation.Python.3.10_qbz5n2kfra8p0/LocalCache/local-packages/Python310/site-packages/numpy/linalg/linalg.py?line=1661'>1662</a>\u001b[0m \u001b[39mreturn\u001b[39;00m s\n",
      "\u001b[1;31mKeyboardInterrupt\u001b[0m: "
     ]
    }
   ],
   "source": [
    "l = 15\n",
    "k_min = 1\n",
    "k_max = 150\n",
    "steps = 15\n",
    "space = np.linspace(k_min, k_max, steps, dtype=int)\n",
    "profits_l = []\n",
    "for i in space:\n",
    "    print(i)\n",
    "    profits_l.append(actualProfit(a,c,rho,i,l))"
   ]
  },
  {
   "cell_type": "code",
   "execution_count": null,
   "metadata": {},
   "outputs": [
    {
     "data": {
      "text/plain": [
       "[<matplotlib.lines.Line2D at 0x1fb056512d0>]"
      ]
     },
     "execution_count": 31,
     "metadata": {},
     "output_type": "execute_result"
    },
    {
     "data": {
      "image/png": "[encoded data removed]",
      "text/plain": [
       "<Figure size 432x288 with 1 Axes>"
      ]
     },
     "metadata": {
      "needs_background": "light"
     },
     "output_type": "display_data"
    }
   ],
   "source": [
    "plt.plot(space, profits_l)"
   ]
  },
  {
   "cell_type": "markdown",
   "metadata": {},
   "source": [
    "## D Regular"
   ]
  },
  {
   "cell_type": "code",
   "execution_count": 353,
   "metadata": {},
   "outputs": [],
   "source": [
    "l = 30 \n",
    "d = 1\n",
    "k = 9\n",
    "\n",
    "def make_core_reg_periphery(l,d,k):\n",
    "    core = nx.random_regular_graph(d, l)\n",
    "    n = (1+k)*l\n",
    "    mat = np.zeros((n,n))\n",
    "    mat[0:l, 0:l] = nx.to_numpy_array(core)\n",
    "    for i in range(l, n):\n",
    "        parent = (i - l) // k\n",
    "        mat[parent, i] = 1\n",
    "    return mat \n",
    "\n",
    "def guess_core_f_reg(d, k):\n",
    "    return Ratio([1,k], [1, -2*d, -k])\n",
    "\n",
    "def guess_core_g_reg(d,k):\n",
    "    return Ratio([1,1-2*d], [1, -2*d, -k])\n"
   ]
  },
  {
   "cell_type": "code",
   "execution_count": 354,
   "metadata": {},
   "outputs": [
    {
     "name": "stdout",
     "output_type": "stream",
     "text": [
      "1.23379339188624 1.0246758678377248\n",
      "1.23379339188624\n",
      "1.0246758678377248\n"
     ]
    },
    {
     "data": {
      "text/plain": [
       "array([[1., 0., 0.],\n",
       "       [1., 0., 0.],\n",
       "       [1., 0., 0.],\n",
       "       [1., 0., 0.],\n",
       "       [1., 0., 0.],\n",
       "       [1., 0., 0.],\n",
       "       [1., 0., 0.],\n",
       "       [1., 0., 0.],\n",
       "       [1., 0., 0.],\n",
       "       [0., 1., 0.]])"
      ]
     },
     "execution_count": 354,
     "metadata": {},
     "output_type": "execute_result"
    }
   ],
   "source": [
    "m = make_core_reg_periphery(l,d,k)\n",
    "n = len(m)\n",
    "mat = m + m.T\n",
    "v =  lin.inv( np.eye(n,n) - 0.02 * mat ) @ np.ones((n,1))\n",
    "print(v[0,0], v[-1,0])\n",
    "f = guess_core_f_reg(d, k)\n",
    "g = guess_core_g_reg(d,k)\n",
    "print(f.eval(0.02))\n",
    "print(g.eval(0.02))\n"
   ]
  },
  {
   "cell_type": "markdown",
   "metadata": {},
   "source": [
    "## Lose Experimennt\n",
    "Here we consider a small case where we can enumerate all of the possible graphs with degree sequence\n",
    "[3,2,2,2,1,1,1]. What can we say about various pricing strategies? \n",
    "\n",
    "\n",
    "### The graphs"
   ]
  },
  {
   "cell_type": "code",
   "execution_count": 338,
   "metadata": {},
   "outputs": [],
   "source": [
    "# G1 = np.zeros((7,7))\n",
    "# G2 = np.zeros((7,7))\n",
    "# G3 = np.zeros((7,7))\n",
    "# G4 = np.zeros((7,7))\n",
    "# G1[0,1] = G1[1,2] = G1[2,0] = 1\n",
    "# G1[3,4] = G1[3,5] = G1[3,6] = 1\n",
    "# G2[0,1] = G2[0,2] =  1\n",
    "# G2[3,4] = G2[4,5] = G2[5,3] = 1\n",
    "# G2[3,6] = 1\n",
    "# G3[0,1] = G3[0,2] = G3[0,3] = 1\n",
    "# G3[1,4] = G3[2,5] = G3[3,6] = 1\n",
    "# G4[0,1] = G4[0,2] = G4[0,3] = 1\n",
    "# G4[3,4] = G4[4,5] = G4[5,6] = 1\n",
    "# graphs = [G1, G2, G3, G4]\n",
    "# G1 = np.zeros((8,8))\n",
    "# G2 = np.zeros((8,8))\n",
    "# G3 = np.zeros((8,8))\n",
    "# G4 = np.zeros((8,8))\n",
    "# G5 = np.zeros((8,8))\n",
    "# G6 = np.zeros((8,8))\n",
    "# G1[0,1] = G1[1,2] = G1[2,3] = G1[3,4] =G1[4,5] = G1[5,0] = 1\n",
    "# G1[6,7] = 1\n",
    "# G2[0,1] = G2[1,2] = G2[2,0] = 1\n",
    "# G2[3,4] =G2[4,5] = G2[5,3] = 1\n",
    "# G2[6,7] = 1\n",
    "# G3[0,1] = G3[1,2] = G3[2,3] = G3[3,4] = G3[4,0] =  1\n",
    "# G3[5,6] = G3[5,7] =1\n",
    "# G4[0,1] = G4[1,2] = G4[2,3] = G4[3,0] = 1\n",
    "# G4[4,5] = G4[4,6] = G4[6,7] = 1\n",
    "# G5[0,1] = G5[1,2] = G5[2,0] = 1\n",
    "# G5[3,4] = G5[4,5] = G5[5,6] = G5[6,7] = 1\n",
    "# G6[0,1] = G6[1,2] = G6[2,3] = G6[3,4] = G6[4,5] = G6[5,6] = G6[6,7] = 1\n",
    "G = nx.fast_gnp_random_graph(500, 1.3/500, directed=True)\n",
    "in_deg = [d for v,d in G.in_degree()]\n",
    "out_deg = [d for v,d in G.out_degree()]\n",
    "graphs = [ nx.to_numpy_array( nx.directed_configuration_model(in_deg, out_deg)) for i in range(50)]\n",
    "\n"
   ]
  },
  {
   "cell_type": "code",
   "execution_count": 339,
   "metadata": {},
   "outputs": [],
   "source": [
    "def centralty(A: np.matrix, rho: float) -> np.matrix:\n",
    "    \"\"\"\n",
    "\n",
    "    Parameters\n",
    "    ----------\n",
    "    A : np matrix\n",
    "    rho : network effect\n",
    "\n",
    "    Returns\n",
    "    -------\n",
    "    Centrality vector as described in paper\n",
    "    \"\"\"\n",
    "    n = A.shape[0]\n",
    "    ident = np.eye(n, n)\n",
    "    ones = np.ones((n, 1))\n",
    "    ApA = A + A.T\n",
    "    central = lin.inv(ident - (rho * ApA))\n",
    "    central = central @ ones  \n",
    "    return central\n",
    "\n",
    "def price_vector(a, c, discount, G):\n",
    "    n = len(G)\n",
    "    rho = discount / specNorm(G + G.T)\n",
    "    frac1 = (a+c)/2\n",
    "    frac2 = rho * ( (a-c)/2)\n",
    "    return (frac1 * np.ones((n,1))) + (frac2 * (G - G.T) @ centralty(G, rho))\n",
    "    \n",
    "def optProfit(G, discount, a, c):\n",
    "    n = len(G)\n",
    "    rho = discount / specNorm(G + G.T)\n",
    "    price = price_vector(a, c, discount, G)\n",
    "    consu = lin.inv(np.eye(n,n) - 2*rho*G)\n",
    "    consu = 0.5 * consu @ (a * np.ones((n,1)) - price)\n",
    "    profit = (price - c*np.ones((n,1))).T @ consu\n",
    "    return profit[0,0]\n",
    " \n",
    "def computerdProfift(G, v, discount, a, c):\n",
    "    n = len(G)\n",
    "    rho = discount / specNorm(G + G.T)\n",
    "    price = v\n",
    "    consu = lin.inv(np.eye(n,n) - 2*rho*G)\n",
    "    consu = 0.5 * consu @ (a * np.ones((n,1)) - price)\n",
    "    profit = (price - c*np.ones((n,1))).T @ consu\n",
    "    return profit[0,0]\n"
   ]
  },
  {
   "cell_type": "code",
   "execution_count": 340,
   "metadata": {},
   "outputs": [],
   "source": [
    "a = 5 \n",
    "c = 4 \n",
    "rho = 0.9\n",
    "opt_profits = [optProfit(G, rho, a, c) for G in graphs]\n",
    "actual_prices = [price_vector(a, c, rho, G) for G in graphs]"
   ]
  },
  {
   "cell_type": "code",
   "execution_count": 341,
   "metadata": {},
   "outputs": [],
   "source": [
    "# get max_G Profit_G* - Profit_G(v)\n",
    "def worst_gap(graphs, opts, v):\n",
    "    profits = [computerdProfift(G, v, rho, a,c) for G in graphs]\n",
    "    worst_score = -np.inf \n",
    "    worst_idx = -1\n",
    "    for i in range(len(graphs)):\n",
    "        s = opts[i] - profits[i]\n",
    "        if (s < 0):\n",
    "            print(\"???????\")\n",
    "        if(s > worst_score):\n",
    "            worst_score = s \n",
    "            worst_idx = i \n",
    "    return worst_score\n",
    "\n",
    "\n",
    "# def aveverge_G Profit-G* - Profit_G(v)\n",
    "def average_gap(graphs, opts, v):\n",
    "    profits = [computerdProfift(G, v, rho, a,c) for G in graphs]\n",
    "    total = 0 \n",
    "    for i in range(len(graphs)):\n",
    "        s = opts[i] - profits[i] \n",
    "        total += opts[i] - profits[i]\n",
    "\n",
    "    return total / len(graphs)\n"
   ]
  },
  {
   "cell_type": "code",
   "execution_count": 342,
   "metadata": {},
   "outputs": [],
   "source": [
    "n = len(graphs[0])\n",
    "vectors_min = np.zeros((n,1))\n",
    "vectors_max = np.zeros((n,1))\n",
    "for i in range(n):\n",
    "    mn = np.inf \n",
    "    mx = -np.inf\n",
    "    for j in range(len(graphs)):\n",
    "        if(actual_prices[j][i] < mn):\n",
    "            mn = actual_prices[j][i]\n",
    "        if(actual_prices[j][i] > mx):\n",
    "            mx = actual_prices[j][i]\n",
    "    vectors_max[i] = mx\n",
    "    vectors_min[i] = mn"
   ]
  },
  {
   "cell_type": "code",
   "execution_count": 346,
   "metadata": {},
   "outputs": [
    {
     "name": "stdout",
     "output_type": "stream",
     "text": [
      "0\n",
      "1\n",
      "2\n",
      "3\n",
      "4\n",
      "5\n",
      "6\n",
      "7\n",
      "8\n",
      "9\n",
      "10\n",
      "11\n",
      "12\n",
      "13\n",
      "14\n",
      "15\n",
      "16\n",
      "17\n",
      "18\n",
      "19\n",
      "228.4717852600099\n"
     ]
    }
   ],
   "source": [
    "n = 8\n",
    "space = np.linspace(vectors_min, vectors_max, 20)\n",
    "#np.random.shuffle(space)\n",
    "mn = np.inf \n",
    "best_v = None\n",
    "data = [] \n",
    "x = []\n",
    "i = 0 \n",
    "for v in space:\n",
    "    print(i)\n",
    "    i += 1\n",
    "    ave_gap = worst_gap(graphs, opt_profits,v)\n",
    "    if(ave_gap < 0):\n",
    "        ## THis should never happen\n",
    "        continue\n",
    "    data.append(ave_gap)\n",
    "    x.append(len(x)+1)\n",
    "    if(ave_gap <= mn):\n",
    "        mn = ave_gap\n",
    "        best_v = v.copy()\n",
    "print(mn)"
   ]
  },
  {
   "cell_type": "code",
   "execution_count": 347,
   "metadata": {},
   "outputs": [
    {
     "data": {
      "text/plain": [
       "[<matplotlib.lines.Line2D at 0x223494e4640>]"
      ]
     },
     "execution_count": 347,
     "metadata": {},
     "output_type": "execute_result"
    },
    {
     "data": {
      "image/png": "[encoded data removed]",
      "text/plain": [
       "<Figure size 432x288 with 1 Axes>"
      ]
     },
     "metadata": {
      "needs_background": "light"
     },
     "output_type": "display_data"
    }
   ],
   "source": [
    "plt.plot(x, data)"
   ]
  },
  {
   "cell_type": "code",
   "execution_count": null,
   "metadata": {},
   "outputs": [],
   "source": []
  },
  {
   "cell_type": "code",
   "execution_count": 42,
   "metadata": {},
   "outputs": [
    {
     "data": {
      "text/plain": [
       "array([[0.        , 0.        , 0.        ],\n",
       "       [0.11111111, 0.22222222, 0.33333333],\n",
       "       [0.22222222, 0.44444444, 0.66666667],\n",
       "       [0.33333333, 0.66666667, 1.        ],\n",
       "       [0.44444444, 0.88888889, 1.33333333],\n",
       "       [0.55555556, 1.11111111, 1.66666667],\n",
       "       [0.66666667, 1.33333333, 2.        ],\n",
       "       [0.77777778, 1.55555556, 2.33333333],\n",
       "       [0.88888889, 1.77777778, 2.66666667],\n",
       "       [1.        , 2.        , 3.        ]])"
      ]
     },
     "execution_count": 42,
     "metadata": {},
     "output_type": "execute_result"
    }
   ],
   "source": [
    "v"
   ]
  },
  {
   "cell_type": "code",
   "execution_count": null,
   "metadata": {},
   "outputs": [],
   "source": []
  }
 ],
 "metadata": {
  "interpreter": {
   "hash": "f8bf12b52825272ca753cd984c5229bfdc42f0a289f2d02e86b988d3513b4f71"
  },
  "kernelspec": {
   "display_name": "Python 3.8.10 64-bit ('pDL': conda)",
   "name": "python3"
  },
  "language_info": {
   "codemirror_mode": {
    "name": "ipython",
    "version": 3
   },
   "file_extension": ".py",
   "mimetype": "text/x-python",
   "name": "python",
   "nbconvert_exporter": "python",
   "pygments_lexer": "ipython3",
   "version": "3.10.4"
  },
  "orig_nbformat": 4
 },
 "nbformat": 4,
 "nbformat_minor": 2
}
