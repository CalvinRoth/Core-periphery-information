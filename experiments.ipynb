{
 "cells": [
  {
   "cell_type": "markdown",
   "metadata": {},
   "source": [
    "# Setup \n",
    "\n",
    "## Imports"
   ]
  },
  {
   "cell_type": "code",
   "execution_count": 317,
   "metadata": {},
   "outputs": [],
   "source": [
    "import networkx as nx\n",
    "import numpy as np\n",
    "import numpy.linalg as lin\n",
    "from __future__ import annotations\n",
    "import matplotlib.pyplot as plt\n",
    "from  rational import RationalF as Ratio"
   ]
  },
  {
   "cell_type": "code",
   "execution_count": 372,
   "metadata": {},
   "outputs": [],
   "source": [
    "def make_core_periphy(core_size, branching_factor):\n",
    "    n = core_size * (1 + branching_factor)\n",
    "    mat = np.zeros((n,n))\n",
    "    for i in range(core_size):\n",
    "        for j in range(core_size):\n",
    "            if(i == j): continue\n",
    "            mat[i,j] = 1\n",
    "    for i in range(core_size, n):\n",
    "        parent = (i - core_size) // branching_factor \n",
    "        mat[parent, i] = 1\n",
    "    return mat\n",
    "\n",
    "    return mat\n",
    "def specNorm(A: np.matrix) -> float:\n",
    "    return lin.norm(A, ord=2)\n",
    "\n",
    "\n",
    "def guessF(k, l):\n",
    "    return Ratio([1, k], [1, -2*(l-1), -k] )\n",
    "\n",
    "def guessG(k,l):\n",
    "    return Ratio([1, 3 - 2*l], [1, -2*(l-1), -k])\n",
    "\n",
    "def guessCons(a, c, k, rho, l, vc, vp): \n",
    "    t1 = 1 + 2*k*rho \n",
    "    t2 = vc + 2*k*rho*vp\n",
    "    t2 = rho * t2\n",
    "    b = 1 - 2*(l-1)*rho\n",
    "    res = t1 - t2 \n",
    "    res = res / b \n",
    "    return ( (a-c)/2) * res "
   ]
  },
  {
   "cell_type": "markdown",
   "metadata": {},
   "source": [
    "a = 5\n",
    "c = 4"
   ]
  },
  {
   "cell_type": "code",
   "execution_count": 373,
   "metadata": {},
   "outputs": [],
   "source": [
    "a = 4\n",
    "c = 2\n",
    "k = 25\n",
    "l = 30\n",
    "m = make_core_periphy(l, k)\n",
    "n = len(m)\n",
    "rho = 0.9 / specNorm(m + m.T)\n"
   ]
  },
  {
   "cell_type": "markdown",
   "metadata": {},
   "source": [
    "# Check for sum of walks"
   ]
  },
  {
   "cell_type": "code",
   "execution_count": 374,
   "metadata": {},
   "outputs": [
    {
     "name": "stdout",
     "output_type": "stream",
     "text": [
      "[4.26325641e-14] [-3.77475828e-15]\n"
     ]
    }
   ],
   "source": [
    "def centralty(A: np.matrix, rho: float) -> np.matrix:\n",
    "    \"\"\"\n",
    "\n",
    "    Parameters\n",
    "    ----------\n",
    "    A : np matrix\n",
    "    rho : network effect\n",
    "\n",
    "    Returns\n",
    "    -------\n",
    "    Centrality vector as described in paper\n",
    "    \"\"\"\n",
    "    n = A.shape[0]\n",
    "    ident = np.eye(n, n)\n",
    "    ones = np.ones((n, 1))\n",
    "    ApA = A + A.T\n",
    "    central = lin.inv(ident - (rho * ApA))\n",
    "    central = central @ ones  \n",
    "    return central\n",
    "factor  = rho \n",
    "f = guessF(k,l)\n",
    "g = guessG(k,l)\n",
    "f_val = f.eval(factor)\n",
    "g_val = g.eval(factor)\n",
    "central = centralty(m, rho)\n",
    "actual_core = central[0]\n",
    "actual_per = central[-1]\n",
    "print(f_val - actual_core, g_val - actual_per)"
   ]
  },
  {
   "cell_type": "markdown",
   "metadata": {},
   "source": [
    "# Scaled walks\n",
    "We want $\\frac{a-c}{2}\\rho * (G - G^T) v $ not just v"
   ]
  },
  {
   "cell_type": "code",
   "execution_count": 375,
   "metadata": {},
   "outputs": [
    {
     "name": "stdout",
     "output_type": "stream",
     "text": [
      "-7.494005416219807e-15 7.771561172376096e-16\n"
     ]
    }
   ],
   "source": [
    "fraction = ((a-c)/2) * rho\n",
    "graph_part =  fraction * (m - m.T) @ central \n",
    "graph_core =  graph_part[0,0]\n",
    "graph_per = graph_part[-1,0]\n",
    "guess_core = fraction * k * g_val \n",
    "guess_per = - fraction * f_val \n",
    "print(graph_core - guess_core, graph_per - guess_per)"
   ]
  },
  {
   "cell_type": "markdown",
   "metadata": {},
   "source": [
    "# Full Price vectors"
   ]
  },
  {
   "cell_type": "code",
   "execution_count": 376,
   "metadata": {},
   "outputs": [
    {
     "name": "stdout",
     "output_type": "stream",
     "text": [
      "-7.549516567451064e-15 8.881784197001252e-16\n"
     ]
    }
   ],
   "source": [
    "def price_vector(a, c, rho, G):\n",
    "    n = len(G)\n",
    "    frac1 = (a+c)/2\n",
    "    frac2 = rho * ( (a-c)/2)\n",
    "    return (frac1 * np.ones((n,1))) + (frac2 * (G - G.T) @ centralty(G, rho))\n",
    " \n",
    "\n",
    "price = price_vector(a, c, rho, m)\n",
    "price_core = price[0,0]\n",
    "price_per = price[-1,0]\n",
    "pguess_core = ((a+c)/2) + guess_core \n",
    "pguess_per = ((a+c)/2) + guess_per \n",
    "print(price_core - pguess_core, price_per - pguess_per)\n"
   ]
  },
  {
   "cell_type": "markdown",
   "metadata": {},
   "source": [
    "# Consumption \n",
    "\n"
   ]
  },
  {
   "cell_type": "code",
   "execution_count": 377,
   "metadata": {},
   "outputs": [
    {
     "name": "stdout",
     "output_type": "stream",
     "text": [
      "4.618527782440651e-14 -4.440892098500626e-16\n"
     ]
    }
   ],
   "source": [
    "def consumption(n, rho, a, c, G):\n",
    "    p = price_vector(a, c, rho, G)\n",
    "    v = a * np.ones((n,1))\n",
    "    v = v - p \n",
    "    mat = lin.inv(np.eye(n,n) - 2 * rho * G  )\n",
    "    return 0.5 * mat @ v \n",
    "\n",
    "consu = consumption(n, rho, a, c, m)\n",
    "consu_core = consu[0,0]\n",
    "consu_per = consu[-1,0]\n",
    "\n",
    "vc = k * g_val \n",
    "vp = - f_val \n",
    "guess_consu = (1 + 2*k*rho)/(1- 2*(l-1)*rho)\n",
    "guess_consu2 = rho * (vc +  2*k*rho*vp)/(1 - 2*(l-1)*rho)\n",
    "guess_consu_core = ((a-c)/4) * (guess_consu - guess_consu2)\n",
    "guess_consu_per = ((a-c)/4) * ( 1 + rho*f_val)\n",
    "print(consu_core - guess_consu_core , consu_per - guess_consu_per)\n",
    "\n"
   ]
  },
  {
   "cell_type": "markdown",
   "metadata": {},
   "source": [
    "# Profits"
   ]
  },
  {
   "cell_type": "markdown",
   "metadata": {},
   "source": [
    "## Profit from each core and each peripheral node"
   ]
  },
  {
   "cell_type": "code",
   "execution_count": 378,
   "metadata": {},
   "outputs": [
    {
     "name": "stdout",
     "output_type": "stream",
     "text": [
      "-1.6653345369377348e-16\n",
      "1.5987211554602254e-14\n"
     ]
    }
   ],
   "source": [
    "profit_core = (price_core - c) * consu_core\n",
    "profit_per = (price_per - c) * consu_per\n",
    "profit_per_guess = ((a-c)*(a-c)/8) * (1- (rho * f_val)**2)\n",
    "vc = k * g_val \n",
    "vp = - f_val \n",
    "guess_x = (1 + 2*k*rho + 2*k*rho*rho*f_val - rho*k*g_val)/(1 - 2*(l-1)*rho)\n",
    "profit_core_guess = ((a-c)**2/8) * ( 1 + rho*k*g_val ) * guess_x\n",
    "print(profit_per_guess - profit_per)\n",
    "print(profit_core -profit_core_guess)\n"
   ]
  },
  {
   "cell_type": "code",
   "execution_count": 379,
   "metadata": {},
   "outputs": [
    {
     "name": "stdout",
     "output_type": "stream",
     "text": [
      "[[660.88696471]]\n"
     ]
    },
    {
     "data": {
      "text/plain": [
       "660.8869647056076"
      ]
     },
     "execution_count": 379,
     "metadata": {},
     "output_type": "execute_result"
    }
   ],
   "source": [
    "# Total profit \n",
    "guess_profit = l * profit_core_guess + k*l * profit_per_guess\n",
    "print ((price - c*np.ones((n,1))).T @ consu)\n",
    "guess_profit"
   ]
  },
  {
   "cell_type": "code",
   "execution_count": 1,
   "metadata": {},
   "outputs": [
    {
     "data": {
      "image/png": "[encoded data removed]",
      "text/plain": [
       "<Figure size 432x288 with 1 Axes>"
      ]
     },
     "metadata": {},
     "output_type": "display_data"
    }
   ],
   "source": [
    "    import networkx as nx \n",
    "    G = nx.DiGraph([(0,1), (1,2), (2,3), (3,4),(4,5), (5,0)] )\n",
    "    degree = [1,1,1,1,1,1] \n",
    "    #This is random, different results each time it is called\n",
    "    H = nx.directed_configuration_model(degree, degree)\n",
    "    nx.draw(H, pos=nx.circular_layout(H))\n"
   ]
  },
  {
   "cell_type": "code",
   "execution_count": 2,
   "metadata": {},
   "outputs": [],
   "source": [
    " #This is random, different results each time it is called\n",
    "#H = nx.directed_configuration_model(degree, degree)"
   ]
  },
  {
   "cell_type": "code",
   "execution_count": null,
   "metadata": {},
   "outputs": [],
   "source": []
  }
 ],
 "metadata": {
  "interpreter": {
   "hash": "f8bf12b52825272ca753cd984c5229bfdc42f0a289f2d02e86b988d3513b4f71"
  },
  "kernelspec": {
   "display_name": "Python 3.8.10 64-bit ('pDL': conda)",
   "name": "python3"
  },
  "language_info": {
   "codemirror_mode": {
    "name": "ipython",
    "version": 3
   },
   "file_extension": ".py",
   "mimetype": "text/x-python",
   "name": "python",
   "nbconvert_exporter": "python",
   "pygments_lexer": "ipython3",
   "version": "3.8.10"
  },
  "orig_nbformat": 4
 },
 "nbformat": 4,
 "nbformat_minor": 2
}
